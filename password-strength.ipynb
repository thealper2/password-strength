{
 "cells": [
  {
   "cell_type": "code",
   "execution_count": 78,
   "id": "c9b4b6e1",
   "metadata": {},
   "outputs": [],
   "source": [
    "import pandas as pd\n",
    "\n",
    "df = pd.read_csv(\"passwordDataset.csv\", dtype={\"password\": \"str\", \"strength\": \"int\"}, index_col=None)"
   ]
  },
  {
   "cell_type": "code",
   "execution_count": 69,
   "id": "8b88e55e",
   "metadata": {},
   "outputs": [],
   "source": [
    "from sklearn.model_selection import train_test_split\n",
    "\n",
    "X = df[\"password\"].values\n",
    "y = df[\"strength\"].values\n",
    "\n",
    "x_train, x_test, y_train, y_test = train_test_split(X, y, test_size=0.2, random_state=42)"
   ]
  },
  {
   "cell_type": "code",
   "execution_count": 70,
   "id": "964330de",
   "metadata": {},
   "outputs": [],
   "source": [
    "def character_tokenizer(text):\n",
    "    return [x for x in text]"
   ]
  },
  {
   "cell_type": "code",
   "execution_count": 73,
   "id": "60d2bcc2",
   "metadata": {},
   "outputs": [],
   "source": [
    "from sklearn.pipeline import Pipeline\n",
    "from sklearn.feature_extraction.text import TfidfVectorizer\n",
    "from xgboost import XGBClassifier\n",
    "\n",
    "password_clf = Pipeline([(\"vect\", TfidfVectorizer(tokenizer=character_tokenizer)), (\"clf\", XGBClassifier()),])"
   ]
  },
  {
   "cell_type": "code",
   "execution_count": 74,
   "id": "454eed46",
   "metadata": {},
   "outputs": [
    {
     "data": {
      "text/plain": [
       "0.9802207156083866"
      ]
     },
     "execution_count": 74,
     "metadata": {},
     "output_type": "execute_result"
    }
   ],
   "source": [
    "password_clf.fit(x_train, y_train)\n",
    "password_clf.score(x_test, y_test)"
   ]
  },
  {
   "cell_type": "code",
   "execution_count": 77,
   "id": "721844fd",
   "metadata": {},
   "outputs": [],
   "source": [
    "import pickle\n",
    "\n",
    "with open('model.pkl','wb') as f:\n",
    "    pickle.dump(password_clf, f)"
   ]
  },
  {
   "cell_type": "code",
   "execution_count": 108,
   "id": "bc895fd3",
   "metadata": {},
   "outputs": [
    {
     "name": "stdout",
     "output_type": "stream",
     "text": [
      "2\n"
     ]
    }
   ],
   "source": [
    "common_password = \"qwerty123!aASDADASDASDsdasda121:'Ç^!^12^!'\"\n",
    "output = password_clf.predict([common_password])\n",
    "result = output.item()\n",
    "print(result)"
   ]
  },
  {
   "cell_type": "code",
   "execution_count": 104,
   "id": "b7997dbe",
   "metadata": {},
   "outputs": [
    {
     "data": {
      "text/plain": [
       "array([2])"
      ]
     },
     "execution_count": 104,
     "metadata": {},
     "output_type": "execute_result"
    }
   ],
   "source": [
    "password_clf.predict([common_password])"
   ]
  },
  {
   "cell_type": "code",
   "execution_count": 98,
   "id": "062e0f9e",
   "metadata": {},
   "outputs": [],
   "source": [
    "from collections import Counter\n",
    "# STRENGTH sütunundaki kategorileri bulduk.\n",
    "tags = Counter(df[\"strength\"]).keys()\n",
    "# STRENGTH sütunundaki kategorilerin adetini bulduk.\n",
    "tags_len = Counter(df[\"strength\"]).values()"
   ]
  },
  {
   "cell_type": "code",
   "execution_count": 99,
   "id": "e642b0a6",
   "metadata": {},
   "outputs": [
    {
     "name": "stdout",
     "output_type": "stream",
     "text": [
      "dict_keys([1, 2, 0]) dict_values([496801, 83137, 89701])\n"
     ]
    }
   ],
   "source": [
    "print(tags, tags_len)"
   ]
  },
  {
   "cell_type": "code",
   "execution_count": null,
   "id": "6c7d4991",
   "metadata": {},
   "outputs": [],
   "source": []
  }
 ],
 "metadata": {
  "kernelspec": {
   "display_name": "Python 3 (ipykernel)",
   "language": "python",
   "name": "python3"
  },
  "language_info": {
   "codemirror_mode": {
    "name": "ipython",
    "version": 3
   },
   "file_extension": ".py",
   "mimetype": "text/x-python",
   "name": "python",
   "nbconvert_exporter": "python",
   "pygments_lexer": "ipython3",
   "version": "3.11.2"
  }
 },
 "nbformat": 4,
 "nbformat_minor": 5
}
